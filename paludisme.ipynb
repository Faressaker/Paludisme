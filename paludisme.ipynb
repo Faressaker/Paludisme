{
 "cells": [
  {
   "cell_type": "code",
   "execution_count": 22,
   "id": "81d1bdf2-e42d-4a13-9a12-4085ec383d00",
   "metadata": {},
   "outputs": [],
   "source": [
    "from PIL import Image\n",
    "import os\n",
    "import numpy as np\n",
    "import pandas as pd\n",
    "import matplotlib.pyplot as plt\n",
    "from tensorflow.keras.preprocessing.image import img_to_array, load_img\n",
    "from tensorflow.keras.models import Sequential\n",
    "from tensorflow.keras.utils import to_categorical\n",
    "from keras.applications import VGG16\n",
    "from keras.callbacks import EarlyStopping, ReduceLROnPlateau\n",
    "from keras.models import Model, Sequential\n",
    "from keras.layers import Conv2D, MaxPooling2D, Flatten, Dense, Dropout\n",
    "from sklearn.model_selection import train_test_split\n",
    "from sklearn.preprocessing import LabelEncoder\n",
    "from sklearn.metrics import confusion_matrix, roc_curve, roc_auc_score, accuracy_score, precision_score, recall_score, f1_score, classification_report\n",
    "from tensorflow.keras.preprocessing.image import ImageDataGenerator\n",
    "from tqdm import tqdm"
   ]
  },
  {
   "cell_type": "code",
   "execution_count": 2,
   "id": "c930a0cc-92d1-45db-90a7-0567d9c8fdd0",
   "metadata": {},
   "outputs": [],
   "source": [
    "# Chemins des dossiers\n",
    "data_directory = r'C:\\Users\\skrfa\\Desktop/Réseaux_de_neurones/malaria_hematie_dataset'\n",
    "saines_directory = r'C:\\Users\\skrfa\\Desktop/Réseaux_de_neurones/malaria_hematie_dataset/saines'\n",
    "infectees_directory = r'C:\\Users\\skrfa\\Desktop/Réseaux_de_neurones/malaria_hematie_dataset/infectees'"
   ]
  },
  {
   "cell_type": "code",
   "execution_count": 3,
   "id": "6a980a72-5fac-40ba-832d-5539c165d8cd",
   "metadata": {},
   "outputs": [],
   "source": [
    "# Préprocesser les images\n",
    "def preprocess_images(folder_path, label, target_size=(128, 128)):\n",
    "    images = []\n",
    "    labels = []\n",
    "    for filename in tqdm(os.listdir(folder_path)):\n",
    "        img_path = os.path.join(folder_path, filename)\n",
    "        if os.path.isfile(img_path):\n",
    "            img = load_img(img_path, target_size=target_size)\n",
    "            img_array = img_to_array(img)\n",
    "            images.append(img_array)\n",
    "            labels.append(label)\n",
    "    return np.array(images), labels"
   ]
  },
  {
   "cell_type": "code",
   "execution_count": 4,
   "id": "5bfdd408-728c-4bc2-afaf-0f66d6b78137",
   "metadata": {},
   "outputs": [
    {
     "name": "stderr",
     "output_type": "stream",
     "text": [
      "100%|███████████████████████████████████████████████████████████████████████████| 13779/13779 [00:47<00:00, 291.76it/s]\n",
      "100%|███████████████████████████████████████████████████████████████████████████| 13779/13779 [00:44<00:00, 307.35it/s]\n"
     ]
    }
   ],
   "source": [
    "# préprocesser les images infectees\n",
    "infectees_images, infectees_labels = preprocess_images(r'C:\\Users\\skrfa\\Desktop/Réseaux_de_neurones/malaria_hematie_dataset/infectees', 'infectees')\n",
    "\n",
    "# préprocesserles images saines\n",
    "saines_images, saines_labels = preprocess_images(r'C:\\Users\\skrfa\\Desktop/Réseaux_de_neurones/malaria_hematie_dataset/saines', 'saines')"
   ]
  },
  {
   "cell_type": "markdown",
   "id": "cb6c6647-cba0-48bf-944c-31c3e788f8cf",
   "metadata": {},
   "source": [
    "  "
   ]
  },
  {
   "cell_type": "markdown",
   "id": "9efa9078-3454-4d3f-9a5f-4b70affa07a4",
   "metadata": {},
   "source": [
    "***Assurer que toutes les images ont la même shape permet de garantir que les données sont prêtes pour l'entraînement***"
   ]
  },
  {
   "cell_type": "code",
   "execution_count": 5,
   "id": "d9f72211-4324-408b-aa28-efedb0be67dd",
   "metadata": {},
   "outputs": [
    {
     "name": "stdout",
     "output_type": "stream",
     "text": [
      "Image infectees Shapes: {(128, 128, 3)}\n",
      "Image Saines Shapes: {(128, 128, 3)}\n"
     ]
    }
   ],
   "source": [
    "# shape des images\n",
    "print(\"Image infectees Shapes:\", set(img.shape for img in infectees_images))\n",
    "print(\"Image Saines Shapes:\", set(img.shape for img in saines_images))"
   ]
  },
  {
   "cell_type": "code",
   "execution_count": 6,
   "id": "00e9fe52-b5f8-4792-a112-e8ad848e614e",
   "metadata": {},
   "outputs": [],
   "source": [
    "# Concatenater les données Preprocesser\n",
    "images = np.concatenate((infectees_images, saines_images))\n",
    "labels = infectees_labels + saines_labels"
   ]
  },
  {
   "cell_type": "code",
   "execution_count": 7,
   "id": "962e53ed-d3c6-4d03-94ac-16410e0fa66d",
   "metadata": {},
   "outputs": [],
   "source": [
    "# Normalisation des images\n",
    "images_normalized = images / 255.0"
   ]
  },
  {
   "cell_type": "code",
   "execution_count": 8,
   "id": "80beeeec-e300-449f-a61b-b34d0abe5cfc",
   "metadata": {},
   "outputs": [],
   "source": [
    "# Encodage des labels\n",
    "label_encoder = LabelEncoder()\n",
    "labels_encoded = label_encoder.fit_transform(labels)"
   ]
  },
  {
   "cell_type": "markdown",
   "id": "9eaf2b0d-a658-4c16-8f18-8ac49c58642f",
   "metadata": {},
   "source": [
    "   "
   ]
  },
  {
   "cell_type": "markdown",
   "id": "70194152-3450-491a-843a-c2a39e9d8f38",
   "metadata": {},
   "source": [
    "**Vérifier les shapes et le nombre des labels est necessaire pour verifier la cohérence des données et detecter les erreurs** "
   ]
  },
  {
   "cell_type": "markdown",
   "id": "a217f4d7-a266-4f77-b59e-17eb6a74a883",
   "metadata": {},
   "source": [
    "  "
   ]
  },
  {
   "cell_type": "code",
   "execution_count": 9,
   "id": "ad861708-dddd-4486-944f-7daba1163256",
   "metadata": {},
   "outputs": [
    {
     "name": "stdout",
     "output_type": "stream",
     "text": [
      "Shape of Images: (27558, 128, 128, 3)\n",
      "Length of Labels: 27558\n"
     ]
    }
   ],
   "source": [
    "# Vérifier les shapes et le nombre des labels  \n",
    "print(\"Shape of Images:\", images.shape)\n",
    "print(\"Length of Labels:\", len(labels_encoded))"
   ]
  },
  {
   "cell_type": "markdown",
   "id": "2678a067-d7a4-4b91-959c-78c103da5dea",
   "metadata": {},
   "source": [
    "**Data augmentation :** est une technique utilisée pour augmenter la diversité de l'ensemble de données d'entraînement sans collecter de nouvelles données et pour reduire le surapprentissage"
   ]
  },
  {
   "cell_type": "code",
   "execution_count": 10,
   "id": "78d1ea3a-f8be-473c-bbd9-f5057d12942b",
   "metadata": {},
   "outputs": [],
   "source": [
    "# Augmentation des données\n",
    "datagen = ImageDataGenerator(\n",
    "    rotation_range=20,\n",
    "    width_shift_range=0.2,\n",
    "    height_shift_range=0.2,\n",
    "    shear_range=0.2,\n",
    "    zoom_range=0.2,\n",
    "    horizontal_flip=True,\n",
    "    fill_mode='nearest'\n",
    ")"
   ]
  },
  {
   "cell_type": "markdown",
   "id": "125de7ce-d75f-4f57-bd79-d5c8be2199a8",
   "metadata": {},
   "source": [
    "**Definir les dimensions des images et créer un modèle CNN en utilisant Keras pour la classification des images d'hématies infectées et saines**"
   ]
  },
  {
   "cell_type": "code",
   "execution_count": 25,
   "id": "99199b9a-94ed-49c6-81d0-c1d98eb1580d",
   "metadata": {},
   "outputs": [
    {
     "name": "stderr",
     "output_type": "stream",
     "text": [
      "C:\\Users\\skrfa\\anaconda3\\Lib\\site-packages\\keras\\src\\layers\\convolutional\\base_conv.py:107: UserWarning: Do not pass an `input_shape`/`input_dim` argument to a layer. When using Sequential models, prefer using an `Input(shape)` object as the first layer in the model instead.\n",
      "  super().__init__(activity_regularizer=activity_regularizer, **kwargs)\n"
     ]
    }
   ],
   "source": [
    "# Détermination des dimensions des images prétraitées ==> Récupère les dimensions des images prétraitées (hauteur, largeur)\n",
    "img_height, img_width, channels = images.shape[1:]\n",
    "\n",
    "# Détermination du nombre de classes uniques ==> Détermine le nombre de classes uniques dans les labels encodés\n",
    "num_classes = len(np.unique(labels_encoded))\n",
    "\n",
    "# Construction du modèle CNN \n",
    "model = Sequential([\n",
    "    # Première couche de convolution et pooling\n",
    "    Conv2D(32, (3, 3), activation='relu', input_shape=(img_height, img_width, channels)),\n",
    "    MaxPooling2D((2, 2)),\n",
    "    \n",
    "    # Deuxième couche de convolution et pooling\n",
    "    Conv2D(64, (3, 3), activation='relu'),\n",
    "    MaxPooling2D((2, 2)),\n",
    "    \n",
    "    # Flattening\n",
    "    Flatten(),\n",
    "    \n",
    "    # Couche dense avec dropout\n",
    "    Dense(128, activation='relu'),\n",
    "    Dropout(0.5),\n",
    "    \n",
    "    # Couche de sortie\n",
    "    Dense(num_classes, activation='softmax')\n",
    "])"
   ]
  },
  {
   "cell_type": "code",
   "execution_count": 12,
   "id": "09209c58-ef01-4398-bb64-d7ba04256c4d",
   "metadata": {},
   "outputs": [],
   "source": [
    "# Chargement du modèle VGG16\n",
    "base_model = VGG16(weights='imagenet', include_top=False, input_shape=(img_width, img_height, 3))\n",
    "\n",
    "# Récuperation de l'encodeur pré-entraîné\n",
    "for layer in base_model.layers:\n",
    "    layer.trainable = False\n",
    "\n",
    "# Construction du modèle et ajouter des couches Dense\n",
    "x = Flatten()(base_model.output)  # Flatten pour connecter à des couches Dense\n",
    "x = Dense(128, activation='relu')(x)  # Couche Dense avec 128 neurones et activation ReLU\n",
    "x = Dropout(0.5)(x)  # Dropout de 50% pour la régularisation\n",
    "predictions = Dense(num_classes, activation='softmax')(x)  # Couche de sortie avec activation softmax\n",
    "\n",
    "# Création du modèle final avec l'encodeur pré-entraîné et les nouvelles couches\n",
    "model_vgg = Model(inputs=base_model.input, outputs=predictions)"
   ]
  },
  {
   "cell_type": "code",
   "execution_count": 13,
   "id": "4a3f92de-0af8-40b8-a1b0-0c3b4173f4b3",
   "metadata": {},
   "outputs": [
    {
     "name": "stdout",
     "output_type": "stream",
     "text": [
      "Epoch 1/10\n",
      "\u001b[1m689/689\u001b[0m \u001b[32m━━━━━━━━━━━━━━━━━━━━\u001b[0m\u001b[37m\u001b[0m \u001b[1m211s\u001b[0m 298ms/step - accuracy: 0.6684 - loss: 0.6568 - val_accuracy: 0.9060 - val_loss: 0.3105 - learning_rate: 0.0010\n",
      "Epoch 2/10\n",
      "\u001b[1m689/689\u001b[0m \u001b[32m━━━━━━━━━━━━━━━━━━━━\u001b[0m\u001b[37m\u001b[0m \u001b[1m194s\u001b[0m 281ms/step - accuracy: 0.9220 - loss: 0.2293 - val_accuracy: 0.9474 - val_loss: 0.2192 - learning_rate: 0.0010\n",
      "Epoch 3/10\n",
      "\u001b[1m689/689\u001b[0m \u001b[32m━━━━━━━━━━━━━━━━━━━━\u001b[0m\u001b[37m\u001b[0m \u001b[1m208s\u001b[0m 302ms/step - accuracy: 0.9411 - loss: 0.1735 - val_accuracy: 0.8922 - val_loss: 0.3031 - learning_rate: 0.0010\n",
      "Epoch 4/10\n",
      "\u001b[1m689/689\u001b[0m \u001b[32m━━━━━━━━━━━━━━━━━━━━\u001b[0m\u001b[37m\u001b[0m \u001b[1m204s\u001b[0m 295ms/step - accuracy: 0.9514 - loss: 0.1392 - val_accuracy: 0.8687 - val_loss: 0.2913 - learning_rate: 0.0010\n",
      "Epoch 5/10\n",
      "\u001b[1m689/689\u001b[0m \u001b[32m━━━━━━━━━━━━━━━━━━━━\u001b[0m\u001b[37m\u001b[0m \u001b[1m204s\u001b[0m 295ms/step - accuracy: 0.9612 - loss: 0.1069 - val_accuracy: 0.9144 - val_loss: 0.2283 - learning_rate: 1.0000e-04\n"
     ]
    },
    {
     "data": {
      "text/plain": [
       "<keras.src.callbacks.history.History at 0x26f3924d7d0>"
      ]
     },
     "execution_count": 13,
     "metadata": {},
     "output_type": "execute_result"
    }
   ],
   "source": [
    "# Définition des callbacks\n",
    "callbacks = [\n",
    "    EarlyStopping(patience=3, monitor='val_loss'),\n",
    "    ReduceLROnPlateau(factor=0.1, patience=2, monitor='val_loss')\n",
    "]\n",
    "\n",
    "# Compilation et entraînement des modèles\n",
    "model.compile(optimizer='adam', loss='sparse_categorical_crossentropy', metrics=['accuracy'])\n",
    "model.fit(images_normalized, labels_encoded, epochs=10, validation_split=0.2, callbacks=callbacks)"
   ]
  },
  {
   "cell_type": "code",
   "execution_count": 17,
   "id": "0e2b20dd-5146-4646-8bf1-3eb571f33e87",
   "metadata": {},
   "outputs": [],
   "source": [
    "# Sauvegarde des poids des modèles\n",
    "model.save_weights('model_weights.weights.h5')"
   ]
  },
  {
   "cell_type": "markdown",
   "id": "445f2953-1515-415e-8fb0-556876f4a593",
   "metadata": {},
   "source": [
    "**Calculer la Matrice de Confusion**"
   ]
  },
  {
   "cell_type": "markdown",
   "id": "bb91112d-b1b9-42f3-aab8-965fd34f1dde",
   "metadata": {},
   "source": [
    "*Le calcul de la matrice de confusion permet d'obtenir une vue complète et détaillée des performances du modèle de classification, d'identifier les types d'erreurs que le modèle fait, et de calculer des métriques de performance*"
   ]
  },
  {
   "cell_type": "code",
   "execution_count": 18,
   "id": "1b0dbf9f-47c6-47a7-98f3-d381f84350c7",
   "metadata": {},
   "outputs": [
    {
     "name": "stdout",
     "output_type": "stream",
     "text": [
      "\u001b[1m173/173\u001b[0m \u001b[32m━━━━━━━━━━━━━━━━━━━━\u001b[0m\u001b[37m\u001b[0m \u001b[1m11s\u001b[0m 65ms/step\n",
      "Matrice de Confusion :\n",
      " [[2750   47]\n",
      " [ 173 2542]]\n"
     ]
    }
   ],
   "source": [
    "# Séparation en ensembles d'entraînement et de test\n",
    "# On utilise 80% des données pour l'entraînement et 20% pour le test\n",
    "X_train, X_test, y_train, y_test = train_test_split(images_normalized, labels_encoded, test_size=0.2, random_state=42)\n",
    "\n",
    "# Faire des prédictions sur le jeu de test\n",
    "# Les prédictions sont les probabilités des classes\n",
    "y_pred_prob = model.predict(X_test)\n",
    "\n",
    "# Convertir les probabilités en classes prédites\n",
    "y_pred = np.argmax(y_pred_prob, axis=1)\n",
    "\n",
    "# Calculer la matrice de confusion\n",
    "# Compare les classes réelles (y_test) aux classes prédites (y_pred)\n",
    "cm = confusion_matrix(y_test, y_pred)\n",
    "\n",
    "# Afficher la matrice de confusion\n",
    "print(\"Matrice de Confusion :\\n\", cm)"
   ]
  },
  {
   "cell_type": "markdown",
   "id": "1504f5e3-e11b-41fb-8398-61f7c1e011bb",
   "metadata": {},
   "source": [
    "**Calculer les métriques de performance**"
   ]
  },
  {
   "cell_type": "code",
   "execution_count": 20,
   "id": "dc1a4633-1dea-434f-965e-5de578bca10e",
   "metadata": {},
   "outputs": [
    {
     "name": "stdout",
     "output_type": "stream",
     "text": [
      "Accuracy : 0.9600870827285921\n",
      "Precision : 0.9818462726921592\n",
      "Recall : 0.936279926335175\n",
      "F1-Score : 0.9585218702865762\n",
      "Rapport de Classification :\n",
      "               precision    recall  f1-score   support\n",
      "\n",
      "           0       0.94      0.98      0.96      2797\n",
      "           1       0.98      0.94      0.96      2715\n",
      "\n",
      "    accuracy                           0.96      5512\n",
      "   macro avg       0.96      0.96      0.96      5512\n",
      "weighted avg       0.96      0.96      0.96      5512\n",
      "\n"
     ]
    }
   ],
   "source": [
    "# Calculer les différentes métriques\n",
    "accuracy = accuracy_score(y_test, y_pred)\n",
    "precision = precision_score(y_test, y_pred)\n",
    "recall = recall_score(y_test, y_pred)\n",
    "f1 = f1_score(y_test, y_pred)\n",
    "\n",
    "# Afficher les métriques\n",
    "print(\"Accuracy :\", accuracy)\n",
    "print(\"Precision :\", precision)\n",
    "print(\"Recall :\", recall)\n",
    "print(\"F1-Score :\", f1)\n",
    "\n",
    "# Afficher le rapport de classification\n",
    "print(\"Rapport de Classification :\\n\", classification_report(y_test, y_pred))"
   ]
  },
  {
   "cell_type": "markdown",
   "id": "1c867835-7e32-4a7f-8693-c7ad99c4f638",
   "metadata": {},
   "source": [
    "**Graphique ROC et calcule l’AUC de chacun des 3 modèles :**\n",
    "*La courbe ROC est un graphique qui illustre les performances d'un modèle de classification binaire en montrant la relation entre le taux de vrais positifs (TPR ou sensibilité) et le taux de faux positifs (FPR) pour différents seuils de décision.*"
   ]
  },
  {
   "cell_type": "code",
   "execution_count": 24,
   "id": "50962bd1-a732-4c51-bf9b-af753675663e",
   "metadata": {},
   "outputs": [
    {
     "name": "stdout",
     "output_type": "stream",
     "text": [
      "\u001b[1m173/173\u001b[0m \u001b[32m━━━━━━━━━━━━━━━━━━━━\u001b[0m\u001b[37m\u001b[0m \u001b[1m11s\u001b[0m 65ms/step\n"
     ]
    },
    {
     "data": {
      "image/png": "[encoded data removed]",
      "text/plain": [
       "<Figure size 800x600 with 1 Axes>"
      ]
     },
     "metadata": {},
     "output_type": "display_data"
    },
    {
     "name": "stdout",
     "output_type": "stream",
     "text": [
      "AUC : 0.992696726497938\n"
     ]
    }
   ],
   "source": [
    "# Obtenir les probabilités prédites pour chaque classe \n",
    "y_prob = model.predict(X_test)\n",
    "\n",
    "# Si y_prob a plusieurs colonnes (classes), on prend la deuxième colonne (index 1)\n",
    "if y_prob.shape[1] > 1:\n",
    "    y_prob = y_prob[:, 1] \n",
    "else:\n",
    "    y_prob = y_prob.ravel()  \n",
    "\n",
    "# Calculer les taux de faux positifs (FPR) et de vrais positifs (TPR) pour différentes valeurs de seuil afin de tracer la courbe ROC\n",
    "fpr, tpr, thresholds = roc_curve(y_test, y_prob)\n",
    "\n",
    "# Calculer l'AUC (Area Under the Curve)\n",
    "auc = roc_auc_score(y_test, y_prob)\n",
    "\n",
    "# Afficher la courbe ROC\n",
    "plt.figure(figsize=(8, 6))  \n",
    "plt.plot(fpr, tpr, label=f'AUC = {auc:.2f}')  \n",
    "plt.plot([0, 1], [0, 1], linestyle='--', color='grey')  \n",
    "plt.xlabel('Taux de Faux Positifs')  \n",
    "plt.ylabel('Taux de Vrais Positifs')  \n",
    "plt.title('Courbe ROC')  \n",
    "plt.legend()  \n",
    "plt.show()  \n",
    "\n",
    "print(\"AUC :\", auc)"
   ]
  },
  {
   "cell_type": "markdown",
   "id": "bf85cc1f-9be2-4611-9ff5-d700868e6d42",
   "metadata": {},
   "source": [
    "**Conclusion :**\n",
    "*Avec un AUC de 0.992696726497938, vous pouvez conclure que votre modèle est exceptionnellement bon pour distinguer entre les hématies saines et infectées, ce qui le rend très utile pour le diagnostic automatique de maladies comme le paludisme*"
   ]
  }
 ],
 "metadata": {
  "kernelspec": {
   "display_name": "Python 3 (ipykernel)",
   "language": "python",
   "name": "python3"
  },
  "language_info": {
   "codemirror_mode": {
    "name": "ipython",
    "version": 3
   },
   "file_extension": ".py",
   "mimetype": "text/x-python",
   "name": "python",
   "nbconvert_exporter": "python",
   "pygments_lexer": "ipython3",
   "version": "3.11.7"
  }
 },
 "nbformat": 4,
 "nbformat_minor": 5
}
